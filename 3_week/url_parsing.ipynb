{
 "cells": [
  {
   "cell_type": "code",
   "execution_count": null,
   "metadata": {},
   "outputs": [],
   "source": [
    "\"\"\"\n",
    "1. URL Parsing\n",
    "Write a python script that has a function called urlparser. \n",
    "\n",
    "This function will accept a URL from the list of two URLs and parse it into its constituent parts.\n",
    "\n",
    "You may use a dictionary to store the parsed portions of the url.\n",
    "\n",
    "You are not allowed to use any specific libraries that help in url parsing. For testing the robustness of your code, you may use any valid arbitrary URL.\n",
    "\"\"\""
   ]
  },
  {
   "cell_type": "code",
   "execution_count": null,
   "metadata": {},
   "outputs": [
    {
     "name": "stdout",
     "output_type": "stream",
     "text": [
      "{'Url': 'https://www.example.co.uk/blog/article/sea?=en#dayone', 'Scheme': 'https', 'Fragment': 'dayone', 'Query': '=en', 'Path': 'blog/article/sea', 'Domain': 'www.example.co.uk'}\n"
     ]
    }
   ],
   "source": [
    "# function urlparser -> takes some url as  arg -> returns a simple dict with constituent parts\n",
    "# we need to do string operations -> we need to split the string into constituents\n",
    "# How to split?\n",
    "# url has some characteristics in the notation? -> use these characteristics to split the url\n",
    "\n",
    "\n",
    "# https://www.example.co.uk:443/blog/article/search?docid=720&hl=en#dayone\n",
    "# we have the protocol or scheme of the format : (string starts) scheme:// (ends with //)\n",
    "# next we have the domain information: www.example.co.uk:443/ (delimited with /)\n",
    "# next we have the path /blog/article/search? (delimited with ?)\n",
    "# query string ?docid=720&hl=en# (delimited with #)\n",
    "# next we have the fragment until the end of the string\n",
    "# how to do it? traverse the string. Keep pointer for start and end -> too complex\n",
    "# split strings based on delimiters\n",
    "\n",
    "\n",
    "\n",
    "def urlParser(url):\n",
    "    result = {}\n",
    "\n",
    "    result[\"Url\"] = url\n",
    "\n",
    "    if \"://\" in url:\n",
    "        scheme, url = url.split(\"://\")\n",
    "        result[\"Scheme\"]=scheme\n",
    "\n",
    "    # now remove fragments\n",
    "    if \"#\" in url:\n",
    "        url, fragment = url.split(\"#\")\n",
    "        result[\"Fragment\"] = fragment\n",
    "\n",
    "    # now remove query string\n",
    "\n",
    "    if \"?\" in url:\n",
    "        url, query = url.split(\"?\")\n",
    "        result[\"Query\"] = query\n",
    "\n",
    "    # now extract path\n",
    "    if \"/\" in url:\n",
    "        url, path = url.split(\"/\", maxsplit=1)\n",
    "        result[\"Path\"] = path \n",
    "\n",
    "    # now extract domain and socket\n",
    "    if \":\" in url:\n",
    "        url, socket = url.split(\":\")\n",
    "        result[\"Socket\"] = socket\n",
    "    \n",
    "    result[\"Domain\"] = url\n",
    "\n",
    "    return result\n",
    "    \n",
    "\n",
    "\n",
    "url = \"https://www.example.co.uk:443/blog/article/search?docid=720&hl=en#dayone\"\n",
    "\n",
    "print(urlParser(url))\n",
    "\n"
   ]
  },
  {
   "cell_type": "code",
   "execution_count": null,
   "metadata": {},
   "outputs": [
    {
     "name": "stdout",
     "output_type": "stream",
     "text": [
      "The Parsed Url is:  {}\n"
     ]
    }
   ],
   "source": [
    "print(\"The Parsed Url is: \", parsed_url)"
   ]
  },
  {
   "cell_type": "code",
   "execution_count": 83,
   "metadata": {},
   "outputs": [
    {
     "data": {
      "text/plain": [
       "['www.example.co.uk:443', 'blog/article/search']"
      ]
     },
     "execution_count": 83,
     "metadata": {},
     "output_type": "execute_result"
    }
   ],
   "source": [
    "\n",
    "\n",
    "url = \"https://www.example.co.uk:443/blog/article/search?docid=720&hl=en#dayone\"\n",
    "scheme, url = url.split(\"://\")\n",
    "url\n",
    "url, fragment = url.split(\"#\")\n",
    "url\n",
    "url, query = url.split(\"?\")\n",
    "url\n",
    "\n",
    "path_split = url.split(\"/\",1)\n",
    "path_split\n",
    "# path_split\n",
    "# url = path_split[0]\n",
    "# path_split = path_split[1:]\n",
    "# url\n",
    "# \"/\".join(path_split)\n",
    "# url\n",
    "# domain, port = url.split(\":\")\n",
    "# domain\n",
    "\n",
    "# port\n",
    "# query = url.split(\"?\",1)\n",
    "# query"
   ]
  },
  {
   "cell_type": "code",
   "execution_count": null,
   "metadata": {},
   "outputs": [],
   "source": [
    "\n"
   ]
  },
  {
   "cell_type": "code",
   "execution_count": 38,
   "metadata": {},
   "outputs": [
    {
     "name": "stdout",
     "output_type": "stream",
     "text": [
      "{'scheme': 'https', 'fragment': 'dayone', 'query': 'docid=720&hl=en', 'path': '/blog/article/search', 'port': '443', 'domain': 'www.example.co.uk'}\n"
     ]
    }
   ],
   "source": [
    "def urlparser(url):\n",
    "    result = {}\n",
    "    \n",
    "    # Split scheme\n",
    "    if '://' in url:\n",
    "        scheme, url = url.split('://', 1)\n",
    "        result['scheme'] = scheme\n",
    "    \n",
    "    # Split fragment\n",
    "    if '#' in url:\n",
    "        url, fragment = url.split('#', 1)\n",
    "        result['fragment'] = fragment\n",
    "    \n",
    "    # Split query\n",
    "    if '?' in url:\n",
    "        url, query = url.split('?', 1)\n",
    "        result['query'] = query\n",
    "    \n",
    "    # Split domain and path\n",
    "    if '/' in url:\n",
    "        domain, path = url.split('/', 1)\n",
    "        result['path'] = '/' + path\n",
    "    else:\n",
    "        domain = url\n",
    "    \n",
    "    # Split port if present\n",
    "    if ':' in domain:\n",
    "        domain, port = domain.split(':', 1)\n",
    "        result['port'] = port\n",
    "    \n",
    "    result['domain'] = domain\n",
    "    \n",
    "    return result\n",
    "\n",
    "# Example Usage\n",
    "url = \"https://www.example.co.uk:443/blog/article/search?docid=720&hl=en#dayone\"\n",
    "print(urlparser(url))\n"
   ]
  },
  {
   "cell_type": "code",
   "execution_count": null,
   "metadata": {},
   "outputs": [
    {
     "data": {
      "text/plain": [
       "['443', 'blog/article/search?docid=720&hl=en#dayone']"
      ]
     },
     "execution_count": 82,
     "metadata": {},
     "output_type": "execute_result"
    }
   ],
   "source": [
    "url = \"https://www.example.co.uk:443/blog/article/search?docid=720&hl=en#dayone\"\n",
    "scheme, url = url.split(\"://\")\n",
    "domain, url = url.split(\":\")\n",
    "port_num, url.split(\"/\",1)\n",
    "\n",
    "\n",
    "# domain, port will be the last split\n",
    "\n",
    "# it is not sure whether port_num exists or not\n",
    "# every split needs to be checked"
   ]
  },
  {
   "cell_type": "code",
   "execution_count": 87,
   "metadata": {},
   "outputs": [
    {
     "name": "stdout",
     "output_type": "stream",
     "text": [
      "{'Url': 'https://www.example.co.uk:443/blog/article/search?docid=720&hl=en#dayone', 'Scheme': 'https', 'Fragment': 'dayone', 'Query': 'docid=720&hl=en', 'Path': 'blog/article/search', 'Socket': '443', 'Domain': 'www.example.co.uk'}\n"
     ]
    }
   ],
   "source": [
    "def urlParser(url):\n",
    "    result = {}\n",
    "\n",
    "    result[\"Url\"] = url\n",
    "\n",
    "    if \"://\" in url:\n",
    "        scheme, url = url.split(\"://\")\n",
    "        result[\"Scheme\"]=scheme\n",
    "\n",
    "    # now remove fragments\n",
    "    if \"#\" in url:\n",
    "        url, fragment = url.split(\"#\")\n",
    "        result[\"Fragment\"] = fragment\n",
    "\n",
    "    # now remove query string\n",
    "\n",
    "    if \"?\" in url:\n",
    "        url, query = url.split(\"?\")\n",
    "        result[\"Query\"] = query\n",
    "\n",
    "    # now extract path\n",
    "    if \"/\" in url:\n",
    "        url, path = url.split(\"/\", maxsplit=1)\n",
    "        result[\"Path\"] = path \n",
    "\n",
    "    # now extract domain and socket\n",
    "    if \":\" in url:\n",
    "        url, socket = url.split(\":\")\n",
    "        result[\"Socket\"] = socket\n",
    "    \n",
    "    result[\"Domain\"] = url\n",
    "\n",
    "    return result\n",
    "\n",
    "\n",
    "\n",
    "url = \"https://www.example.co.uk:443/blog/article/search?docid=720&hl=en#dayone\"\n",
    "\n",
    "print(urlParser(url))"
   ]
  },
  {
   "cell_type": "code",
   "execution_count": null,
   "metadata": {},
   "outputs": [],
   "source": []
  }
 ],
 "metadata": {
  "kernelspec": {
   "display_name": "env_first",
   "language": "python",
   "name": "python3"
  },
  "language_info": {
   "codemirror_mode": {
    "name": "ipython",
    "version": 3
   },
   "file_extension": ".py",
   "mimetype": "text/x-python",
   "name": "python",
   "nbconvert_exporter": "python",
   "pygments_lexer": "ipython3",
   "version": "3.9.21"
  }
 },
 "nbformat": 4,
 "nbformat_minor": 2
}
