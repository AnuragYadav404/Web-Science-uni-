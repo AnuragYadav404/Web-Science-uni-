{
 "cells": [
  {
   "cell_type": "code",
   "execution_count": null,
   "metadata": {},
   "outputs": [],
   "source": [
    "\"\"\"\n",
    "1. URL Parsing\n",
    "Write a python script that has a function called urlparser. \n",
    "\n",
    "This function will accept a URL from the list of two URLs and parse it into its constituent parts.\n",
    "\n",
    "You may use a dictionary to store the parsed portions of the url.\n",
    "\n",
    "You are not allowed to use any specific libraries that help in url parsing. For testing the robustness of your code, you may use any valid arbitrary URL.\n",
    "\"\"\""
   ]
  },
  {
   "cell_type": "code",
   "execution_count": null,
   "metadata": {},
   "outputs": [
    {
     "name": "stdout",
     "output_type": "stream",
     "text": [
      "{'Url': 'https://www.example.co.uk/blog/article/sea?=en#dayone', 'Scheme': 'https', 'Fragment': 'dayone', 'Query': '=en', 'Path': 'blog/article/sea', 'Domain': 'www.example.co.uk'}\n"
     ]
    }
   ],
   "source": [
    "# function urlparser -> takes some url as  arg -> returns a simple dict with constituent parts\n",
    "# we need to do string operations -> we need to split the string into constituents\n",
    "# How to split?\n",
    "# url has some characteristics in the notation? -> use these characteristics to split the url\n",
    "\n",
    "\n",
    "# https://www.example.co.uk:443/blog/article/search?docid=720&hl=en#dayone\n",
    "# we have the protocol or scheme of the format : (string starts) scheme:// (ends with //)\n",
    "# next we have the domain information: www.example.co.uk:443/ (delimited with /)\n",
    "# next we have the path /blog/article/search? (delimited with ?)\n",
    "# query string ?docid=720&hl=en# (delimited with #)\n",
    "# next we have the fragment until the end of the string\n",
    "# how to do it? traverse the string. Keep pointer for start and end -> too complex\n",
    "# split strings based on delimiters\n",
    "\n",
    "\n",
    "\n",
    "def urlParser(url):\n",
    "    result = {}\n",
    "\n",
    "    result[\"Url\"] = url\n",
    "\n",
    "    if \"://\" in url:\n",
    "        scheme, url = url.split(\"://\")\n",
    "        result[\"Scheme\"]=scheme\n",
    "\n",
    "    # now remove fragments\n",
    "    if \"#\" in url:\n",
    "        url, fragment = url.split(\"#\")\n",
    "        result[\"Fragment\"] = fragment\n",
    "\n",
    "    # now remove query string\n",
    "\n",
    "    if \"?\" in url:\n",
    "        url, query = url.split(\"?\")\n",
    "        result[\"Query\"] = query\n",
    "\n",
    "    # now extract path\n",
    "    if \"/\" in url:\n",
    "        url, path = url.split(\"/\", maxsplit=1)\n",
    "        result[\"Path\"] = path \n",
    "\n",
    "    # now extract domain and socket\n",
    "    if \":\" in url:\n",
    "        url, socket = url.split(\":\")\n",
    "        result[\"Socket\"] = socket\n",
    "    \n",
    "    result[\"Domain\"] = url\n",
    "\n",
    "    return result\n",
    "    \n",
    "\n",
    "\n",
    "url = \"https://www.example.co.uk:443/blog/article/search?docid=720&hl=en#dayone\"\n",
    "\n",
    "print(urlParser(url))\n",
    "\n"
   ]
  },
  {
   "cell_type": "code",
   "execution_count": 2,
   "metadata": {},
   "outputs": [
    {
     "data": {
      "text/plain": [
       "'\"abdra\"'"
      ]
     },
     "execution_count": 2,
     "metadata": {},
     "output_type": "execute_result"
    }
   ],
   "source": [
    "\"\"\"\n",
    "2. TCP Client - Server\n",
    "You found out how to parse a given URL and store the different parts in a dictionary.\n",
    "\n",
    "Now you have the following tasks:\n",
    "\n",
    "1. Write a simple TCP Client that sends the different parts of the given URL in a JSON1 package.\n",
    "2. Write a simple TCP Server that receives the message from the TCP Client and assemble the parts of the URL to print the entire valid URL.\n",
    "\n",
    "You can submit all files in as a .zip  \n",
    "\n",
    "\n",
    "1. First thing is reliable connection setup\n",
    "2. Sending the data from the client as a JSON package\n",
    "3\n",
    "\n",
    "Client -> sets up the connection, sends the data as a json Pacakage\n",
    "Server -> sets up listening to incoming requests\n",
    "            -> Receives message from client, and assemebles part of url url and prints it\n",
    "\n",
    "\"\"\"\n",
    "\n",
    "import json\n",
    "\n",
    "str  = \"abdra\"\n",
    "json.dumps(str)"
   ]
  },
  {
   "cell_type": "code",
   "execution_count": null,
   "metadata": {},
   "outputs": [],
   "source": []
  }
 ],
 "metadata": {
  "kernelspec": {
   "display_name": "env_first",
   "language": "python",
   "name": "python3"
  },
  "language_info": {
   "codemirror_mode": {
    "name": "ipython",
    "version": 3
   },
   "file_extension": ".py",
   "mimetype": "text/x-python",
   "name": "python",
   "nbconvert_exporter": "python",
   "pygments_lexer": "ipython3",
   "version": "3.9.21"
  }
 },
 "nbformat": 4,
 "nbformat_minor": 2
}
